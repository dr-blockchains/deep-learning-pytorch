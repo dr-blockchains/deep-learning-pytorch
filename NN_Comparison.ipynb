{
  "nbformat": 4,
  "nbformat_minor": 0,
  "metadata": {
    "colab": {
      "provenance": [],
      "gpuType": "T4",
      "authorship_tag": "ABX9TyO9xSiO1SpjjqXVRaBaAYFv",
      "include_colab_link": true
    },
    "kernelspec": {
      "name": "python3",
      "display_name": "Python 3"
    },
    "language_info": {
      "name": "python"
    },
    "accelerator": "GPU"
  },
  "cells": [
    {
      "cell_type": "markdown",
      "metadata": {
        "id": "view-in-github",
        "colab_type": "text"
      },
      "source": [
        "<a href=\"https://colab.research.google.com/github/dr-blockchains/deep-learning-pytorch/blob/main/NN_Comparison.ipynb\" target=\"_parent\"><img src=\"https://colab.research.google.com/assets/colab-badge.svg\" alt=\"Open In Colab\"/></a>"
      ]
    },
    {
      "cell_type": "code",
      "source": [
        "import numpy as np\n",
        "import torch\n",
        "import torch.nn as nn\n",
        "import torch.optim as optim\n",
        "from sklearn.model_selection import train_test_split\n",
        "from sklearn.preprocessing import StandardScaler\n",
        "from sklearn.linear_model import LogisticRegression\n",
        "import matplotlib.pyplot as plt\n",
        "\n",
        "print(f\"Torch version: {torch.__version__}\")\n",
        "\n",
        "device = torch.device(\"cuda:0\") if torch.cuda.is_available() else torch.device(\"cpu\")\n",
        "print(device)"
      ],
      "metadata": {
        "colab": {
          "base_uri": "https://localhost:8080/"
        },
        "id": "QJEx7uptNtXP",
        "outputId": "1a745140-a161-4be4-c92f-ae264f9a4887"
      },
      "execution_count": null,
      "outputs": [
        {
          "output_type": "stream",
          "name": "stdout",
          "text": [
            "Torch version: 2.6.0+cu124\n",
            "cuda:0\n"
          ]
        }
      ]
    },
    {
      "cell_type": "code",
      "source": [
        "# Generate Some fake data:\n",
        "\n",
        "np.random.seed(1)\n",
        "torch.manual_seed(1)\n",
        "\n",
        "n_samples = 1000\n",
        "n_inputs = 5\n",
        "n_outputs = 3\n",
        "\n",
        "X = np.random.randn(n_samples, n_inputs)\n",
        "noise = np.random.uniform(-1, 1, size=(n_samples,))\n",
        "\n",
        "y1 = (1.5*X[:, 0] - 0.5*X[:, 1] + 0.1*X[:, 2] + noise > 0 ).astype(int)  # Linear\n",
        "y2 = (0.7*X[:, 1] + 0.3*X[:, 2] + 0.5*X[:, 0]*X[:, 3] > 0.5).astype(int)  # With interaction\n",
        "y3 = (np.sin(X[:, 0]) + np.exp(X[:, 4]/5) - 0.8*X[:, 2]**2 > 0).astype(int)  # Non-linear\n",
        "Y = np.column_stack([y1, y2, y3])\n",
        "\n",
        "X.shape, Y.shape, noise.shape"
      ],
      "metadata": {
        "id": "Uffa3TYvV-sF",
        "colab": {
          "base_uri": "https://localhost:8080/"
        },
        "outputId": "2fca4272-c881-4310-85d0-8c55f524b435"
      },
      "execution_count": null,
      "outputs": [
        {
          "output_type": "execute_result",
          "data": {
            "text/plain": [
              "((1000, 5), (1000, 3), (1000,))"
            ]
          },
          "metadata": {},
          "execution_count": 78
        }
      ]
    },
    {
      "cell_type": "code",
      "source": [
        "# Split and prepare data:\n",
        "\n",
        "X_train, X_test, Y_train, Y_test = train_test_split(X, Y, test_size=0.2, random_state=1)\n",
        "scaler = StandardScaler()\n",
        "X_train_scaled = scaler.fit_transform(X_train)\n",
        "X_test_scaled = scaler.transform(X_test)\n",
        "\n",
        "X_train_tensor = torch.FloatTensor(X_train_scaled)\n",
        "Y_train_tensor = torch.FloatTensor(Y_train)\n",
        "X_test_tensor = torch.FloatTensor(X_test_scaled)\n",
        "Y_test_tensor = torch.FloatTensor(Y_test)\n",
        "\n",
        "X_train.shape, X_test.shape, Y_train.shape, Y_test.shape"
      ],
      "metadata": {
        "colab": {
          "base_uri": "https://localhost:8080/"
        },
        "id": "qIBThUqglTNe",
        "outputId": "c28587b2-57c9-47d6-c4d8-128d3dcbc47e"
      },
      "execution_count": null,
      "outputs": [
        {
          "output_type": "execute_result",
          "data": {
            "text/plain": [
              "((800, 5), (200, 5), (800, 3), (200, 3))"
            ]
          },
          "metadata": {},
          "execution_count": 79
        }
      ]
    },
    {
      "cell_type": "code",
      "source": [
        "# 1. Multivariate Logistic Regression:\n",
        "\n",
        "lr_models = []\n",
        "lr_predictions = np.zeros((X_test.shape[0], n_outputs))\n",
        "\n",
        "for i in range(n_outputs):\n",
        "    lr = LogisticRegression(C=1e6, random_state=2, max_iter=10000, tol=1e-8)\n",
        "    lr.fit(X_train_scaled, Y_train[:, i])\n",
        "    lr_models.append(lr)\n",
        "    print(f\"\\n Coefficients: {lr.coef_[0]}, Intercept: {lr.intercept_[0]:.3f}\")\n",
        "\n",
        "    lr_predictions[:, i] = lr.predict(X_test_scaled)\n",
        "\n",
        "    print(f\"Output y{i+1} accuracy: {lr.score(X_test_scaled, Y_test[:, i])}\")"
      ],
      "metadata": {
        "colab": {
          "base_uri": "https://localhost:8080/"
        },
        "id": "1ver1LXRsbuI",
        "outputId": "ba7f3457-7b58-4775-c5d2-a2b3c7f7eba3"
      },
      "execution_count": null,
      "outputs": [
        {
          "output_type": "stream",
          "name": "stdout",
          "text": [
            "\n",
            " Coefficients: [ 4.44472931 -1.35182231  0.42692132 -0.09173283  0.02647955], Intercept: -0.043\n",
            "Output y1 accuracy: 0.905\n",
            "\n",
            " Coefficients: [ 7.59742080e-02  3.15397081e+00  1.29388377e+00  7.81450637e-04\n",
            " -6.57632245e-02], Intercept: -2.254\n",
            "Output y2 accuracy: 0.875\n",
            "\n",
            " Coefficients: [ 0.98616393 -0.06011731 -0.11439433 -0.11575603  0.50449216], Intercept: 0.708\n",
            "Output y3 accuracy: 0.785\n"
          ]
        }
      ]
    },
    {
      "cell_type": "code",
      "source": [
        "# 2. Simple Neural Network:\n",
        "\n",
        "class SimpleNN(nn.Module):\n",
        "    def __init__(self, input_size, output_size):\n",
        "        super(SimpleNN, self).__init__()\n",
        "        self.linear = nn.Linear(input_size, output_size)\n",
        "        self.sigmoid = nn.Sigmoid()\n",
        "\n",
        "    def forward(self, x):\n",
        "        return self.sigmoid(self.linear(x))\n",
        "\n",
        "simple_nn = SimpleNN(n_inputs, n_outputs)\n",
        "simple_nn"
      ],
      "metadata": {
        "colab": {
          "base_uri": "https://localhost:8080/"
        },
        "id": "RggydVV7vRVO",
        "outputId": "fcf2fd08-0f90-4232-8846-cf7b7f449dbc"
      },
      "execution_count": null,
      "outputs": [
        {
          "output_type": "execute_result",
          "data": {
            "text/plain": [
              "SimpleNN(\n",
              "  (linear): Linear(in_features=5, out_features=3, bias=True)\n",
              "  (sigmoid): Sigmoid()\n",
              ")"
            ]
          },
          "metadata": {},
          "execution_count": 81
        }
      ]
    },
    {
      "cell_type": "code",
      "source": [
        "# 3. Neural Network with one hidden layer with ReLU activation function:\n",
        "\n",
        "class OneHiddenNN(nn.Module):\n",
        "    def __init__(self, input_size, hidden_size, output_size):\n",
        "        super(OneHiddenNN, self).__init__()\n",
        "\n",
        "        self.model = nn.Sequential(\n",
        "            nn.Linear(input_size, hidden_size),\n",
        "            nn.ReLU(),\n",
        "            nn.Linear(hidden_size, output_size),\n",
        "            nn.Sigmoid()\n",
        "        )\n",
        "\n",
        "    def forward(self, x):\n",
        "        return self.model(x)\n",
        "\n",
        "one_hidden = OneHiddenNN(n_inputs, 8, n_outputs)\n",
        "one_hidden"
      ],
      "metadata": {
        "colab": {
          "base_uri": "https://localhost:8080/"
        },
        "id": "yfdUoLDFwwCz",
        "outputId": "4f896018-2105-4efa-8890-f601b10a872f"
      },
      "execution_count": null,
      "outputs": [
        {
          "output_type": "execute_result",
          "data": {
            "text/plain": [
              "OneHiddenNN(\n",
              "  (model): Sequential(\n",
              "    (0): Linear(in_features=5, out_features=8, bias=True)\n",
              "    (1): ReLU()\n",
              "    (2): Linear(in_features=8, out_features=3, bias=True)\n",
              "    (3): Sigmoid()\n",
              "  )\n",
              ")"
            ]
          },
          "metadata": {},
          "execution_count": 82
        }
      ]
    },
    {
      "cell_type": "code",
      "source": [
        "# 4. The Neural Network with two hidden layers:\n",
        "\n",
        "class TwoHiddenNN(nn.Module):\n",
        "    def __init__(self, input_size, hidden1_size, hidden2_size, output_size):\n",
        "        super(TwoHiddenNN, self).__init__()\n",
        "\n",
        "        self.model = nn.Sequential(\n",
        "            nn.Linear(input_size, hidden1_size),\n",
        "            nn.ReLU(),\n",
        "            nn.Linear(hidden1_size, hidden2_size),\n",
        "            nn.ReLU(),\n",
        "            nn.Linear(hidden2_size, output_size),\n",
        "            nn.Sigmoid()\n",
        "        )\n",
        "\n",
        "    def forward(self, x):\n",
        "        return self.model(x)\n",
        "\n",
        "two_hidden = TwoHiddenNN(n_inputs, 8, 6, n_outputs)\n",
        "two_hidden"
      ],
      "metadata": {
        "colab": {
          "base_uri": "https://localhost:8080/"
        },
        "id": "9q9_K_uVaqsa",
        "outputId": "59c73a35-02b9-4795-b8ac-5f8b02702c4d"
      },
      "execution_count": null,
      "outputs": [
        {
          "output_type": "execute_result",
          "data": {
            "text/plain": [
              "TwoHiddenNN(\n",
              "  (model): Sequential(\n",
              "    (0): Linear(in_features=5, out_features=8, bias=True)\n",
              "    (1): ReLU()\n",
              "    (2): Linear(in_features=8, out_features=6, bias=True)\n",
              "    (3): ReLU()\n",
              "    (4): Linear(in_features=6, out_features=3, bias=True)\n",
              "    (5): Sigmoid()\n",
              "  )\n",
              ")"
            ]
          },
          "metadata": {},
          "execution_count": 83
        }
      ]
    },
    {
      "cell_type": "code",
      "source": [
        "# 5. Neural Network with one linear hidden layer:\n",
        "\n",
        "class LinearHiddenNN(nn.Module):\n",
        "    def __init__(self, input_size, hidden_size, output_size):\n",
        "        super(LinearHiddenNN, self).__init__()\n",
        "\n",
        "        self.model = nn.Sequential(\n",
        "            nn.Linear(input_size, hidden_size),\n",
        "            nn.Linear(hidden_size, output_size),\n",
        "            nn.Sigmoid()\n",
        "        )\n",
        "\n",
        "    def forward(self, x):\n",
        "        return self.model(x)\n",
        "\n",
        "linear_hidden = LinearHiddenNN(n_inputs, 2, n_outputs)\n",
        "linear_hidden"
      ],
      "metadata": {
        "colab": {
          "base_uri": "https://localhost:8080/"
        },
        "id": "J3rBCpAs5YQz",
        "outputId": "1eebdcb5-1c54-4d9f-d796-d986bfc6b0ab"
      },
      "execution_count": null,
      "outputs": [
        {
          "output_type": "execute_result",
          "data": {
            "text/plain": [
              "LinearHiddenNN(\n",
              "  (model): Sequential(\n",
              "    (0): Linear(in_features=5, out_features=2, bias=True)\n",
              "    (1): Linear(in_features=2, out_features=3, bias=True)\n",
              "    (2): Sigmoid()\n",
              "  )\n",
              ")"
            ]
          },
          "metadata": {},
          "execution_count": 84
        }
      ]
    },
    {
      "cell_type": "code",
      "source": [
        "# Function to train the Neural Network models:\n",
        "\n",
        "def train_model(model, X_train, Y_train, max_epochs=9000, lr=0.01, tol=1e-17):\n",
        "    criterion = nn.BCELoss()\n",
        "    optimizer = optim.Adam(model.parameters(), lr)\n",
        "\n",
        "    model.train()\n",
        "\n",
        "    losses = []\n",
        "    prev_loss = float('inf')\n",
        "\n",
        "    for epoch in range(max_epochs):\n",
        "        y_pred = model(X_train)\n",
        "        loss = criterion(y_pred, Y_train)\n",
        "        losses.append(loss.item())\n",
        "        current_loss = loss.item()\n",
        "\n",
        "        if abs(prev_loss - current_loss) < tol:\n",
        "            print(f\"Converged at epoch {epoch} with loss {current_loss:.8f}\")\n",
        "            break\n",
        "\n",
        "        if (epoch) % 100 == 0:\n",
        "            print(f\"Epoch [{epoch}/{max_epochs}], Loss: {loss.item():.4f}\")\n",
        "\n",
        "        prev_loss = current_loss\n",
        "\n",
        "        optimizer.zero_grad()\n",
        "        loss.backward()\n",
        "        optimizer.step()\n",
        "\n",
        "    if epoch == max_epochs - 1:\n",
        "        print(f\"Reached max epochs ({max_epochs}) with loss {current_loss:.8f}\")\n",
        "\n",
        "    return losses"
      ],
      "metadata": {
        "id": "mhE6kG_PeuD4"
      },
      "execution_count": null,
      "outputs": []
    },
    {
      "cell_type": "code",
      "source": [
        "# Training Models and Obtaining Losses:\n",
        "print(\"\\n Simple NN Training: \")\n",
        "simple_losses = train_model(simple_nn, X_train_tensor, Y_train_tensor)\n",
        "\n",
        "print(\"\\n One Hidden NN Training: \")\n",
        "one_hidden_losses = train_model(one_hidden, X_train_tensor, Y_train_tensor)\n",
        "\n",
        "print(\"\\n Two Hidden NN Training: \")\n",
        "two_hidden_losses = train_model(two_hidden, X_train_tensor, Y_train_tensor)\n",
        "\n",
        "# print(\"\\n Linear Hidden NN Training: \")\n",
        "# linear_hidden_losses = train_model(one_hidden, X_train_tensor, Y_train_tensor)\n"
      ],
      "metadata": {
        "colab": {
          "base_uri": "https://localhost:8080/"
        },
        "id": "5xYRJAfvhLyZ",
        "outputId": "31b9d556-0eba-4eba-aee9-07fe79523c0a"
      },
      "execution_count": null,
      "outputs": [
        {
          "output_type": "stream",
          "name": "stdout",
          "text": [
            "\n",
            " Simple NN Training: \n",
            "Epoch [0/9000], Loss: 0.6793\n",
            "Epoch [100/9000], Loss: 0.4563\n",
            "Epoch [200/9000], Loss: 0.4091\n",
            "Epoch [300/9000], Loss: 0.3892\n",
            "Epoch [400/9000], Loss: 0.3789\n",
            "Epoch [500/9000], Loss: 0.3730\n",
            "Epoch [600/9000], Loss: 0.3695\n",
            "Epoch [700/9000], Loss: 0.3673\n",
            "Epoch [800/9000], Loss: 0.3659\n",
            "Epoch [900/9000], Loss: 0.3651\n",
            "Epoch [1000/9000], Loss: 0.3645\n",
            "Epoch [1100/9000], Loss: 0.3641\n",
            "Epoch [1200/9000], Loss: 0.3639\n",
            "Epoch [1300/9000], Loss: 0.3637\n",
            "Epoch [1400/9000], Loss: 0.3636\n",
            "Epoch [1500/9000], Loss: 0.3636\n",
            "Epoch [1600/9000], Loss: 0.3635\n",
            "Epoch [1700/9000], Loss: 0.3635\n",
            "Epoch [1800/9000], Loss: 0.3635\n",
            "Epoch [1900/9000], Loss: 0.3635\n",
            "Converged at epoch 1904 with loss 0.36349094\n",
            "\n",
            " One Hidden NN Training: \n",
            "Epoch [0/9000], Loss: 0.6814\n",
            "Epoch [100/9000], Loss: 0.2989\n",
            "Epoch [200/9000], Loss: 0.1786\n",
            "Epoch [300/9000], Loss: 0.1491\n",
            "Epoch [400/9000], Loss: 0.1378\n",
            "Epoch [500/9000], Loss: 0.1307\n",
            "Epoch [600/9000], Loss: 0.1263\n",
            "Epoch [700/9000], Loss: 0.1232\n",
            "Epoch [800/9000], Loss: 0.1208\n",
            "Epoch [900/9000], Loss: 0.1191\n",
            "Epoch [1000/9000], Loss: 0.1170\n",
            "Epoch [1100/9000], Loss: 0.1152\n",
            "Epoch [1200/9000], Loss: 0.1139\n",
            "Epoch [1300/9000], Loss: 0.1127\n",
            "Epoch [1400/9000], Loss: 0.1115\n",
            "Epoch [1500/9000], Loss: 0.1105\n",
            "Epoch [1600/9000], Loss: 0.1097\n",
            "Epoch [1700/9000], Loss: 0.1090\n",
            "Epoch [1800/9000], Loss: 0.1084\n",
            "Epoch [1900/9000], Loss: 0.1078\n",
            "Epoch [2000/9000], Loss: 0.1072\n",
            "Epoch [2100/9000], Loss: 0.1056\n",
            "Epoch [2200/9000], Loss: 0.1041\n",
            "Epoch [2300/9000], Loss: 0.1032\n",
            "Epoch [2400/9000], Loss: 0.1024\n",
            "Epoch [2500/9000], Loss: 0.1019\n",
            "Epoch [2600/9000], Loss: 0.1014\n",
            "Epoch [2700/9000], Loss: 0.1011\n",
            "Epoch [2800/9000], Loss: 0.1008\n",
            "Epoch [2900/9000], Loss: 0.1005\n",
            "Epoch [3000/9000], Loss: 0.1002\n",
            "Epoch [3100/9000], Loss: 0.1000\n",
            "Epoch [3200/9000], Loss: 0.0998\n",
            "Epoch [3300/9000], Loss: 0.0996\n",
            "Epoch [3400/9000], Loss: 0.0994\n",
            "Epoch [3500/9000], Loss: 0.0992\n",
            "Epoch [3600/9000], Loss: 0.0990\n",
            "Epoch [3700/9000], Loss: 0.0988\n",
            "Epoch [3800/9000], Loss: 0.0987\n",
            "Epoch [3900/9000], Loss: 0.0985\n",
            "Epoch [4000/9000], Loss: 0.0984\n",
            "Epoch [4100/9000], Loss: 0.0982\n",
            "Epoch [4200/9000], Loss: 0.0981\n",
            "Epoch [4300/9000], Loss: 0.0979\n",
            "Epoch [4400/9000], Loss: 0.0979\n",
            "Epoch [4500/9000], Loss: 0.0977\n",
            "Epoch [4600/9000], Loss: 0.0975\n",
            "Epoch [4700/9000], Loss: 0.0973\n",
            "Epoch [4800/9000], Loss: 0.0972\n",
            "Epoch [4900/9000], Loss: 0.0971\n",
            "Epoch [5000/9000], Loss: 0.0970\n",
            "Epoch [5100/9000], Loss: 0.0969\n",
            "Epoch [5200/9000], Loss: 0.0968\n",
            "Converged at epoch 5251 with loss 0.09673979\n",
            "\n",
            " Two Hidden NN Training: \n",
            "Epoch [0/9000], Loss: 0.7296\n",
            "Epoch [100/9000], Loss: 0.3057\n",
            "Epoch [200/9000], Loss: 0.1561\n",
            "Epoch [300/9000], Loss: 0.1290\n",
            "Epoch [400/9000], Loss: 0.1186\n",
            "Epoch [500/9000], Loss: 0.1137\n",
            "Epoch [600/9000], Loss: 0.1101\n",
            "Epoch [700/9000], Loss: 0.1075\n",
            "Epoch [800/9000], Loss: 0.1058\n",
            "Epoch [900/9000], Loss: 0.1047\n",
            "Epoch [1000/9000], Loss: 0.1038\n",
            "Epoch [1100/9000], Loss: 0.1032\n",
            "Epoch [1200/9000], Loss: 0.1020\n",
            "Epoch [1300/9000], Loss: 0.1012\n",
            "Epoch [1400/9000], Loss: 0.1008\n",
            "Epoch [1500/9000], Loss: 0.1001\n",
            "Epoch [1600/9000], Loss: 0.0997\n",
            "Epoch [1700/9000], Loss: 0.0993\n",
            "Epoch [1800/9000], Loss: 0.0991\n",
            "Epoch [1900/9000], Loss: 0.0987\n",
            "Epoch [2000/9000], Loss: 0.0973\n",
            "Epoch [2100/9000], Loss: 0.0964\n",
            "Epoch [2200/9000], Loss: 0.0959\n",
            "Epoch [2300/9000], Loss: 0.0955\n",
            "Epoch [2400/9000], Loss: 0.0952\n",
            "Epoch [2500/9000], Loss: 0.0951\n",
            "Epoch [2600/9000], Loss: 0.0948\n",
            "Epoch [2700/9000], Loss: 0.0946\n",
            "Epoch [2800/9000], Loss: 0.0945\n",
            "Epoch [2900/9000], Loss: 0.0942\n",
            "Epoch [3000/9000], Loss: 0.0941\n",
            "Epoch [3100/9000], Loss: 0.0939\n",
            "Epoch [3200/9000], Loss: 0.0939\n",
            "Epoch [3300/9000], Loss: 0.0937\n",
            "Epoch [3400/9000], Loss: 0.0936\n",
            "Epoch [3500/9000], Loss: 0.0932\n",
            "Epoch [3600/9000], Loss: 0.0931\n",
            "Epoch [3700/9000], Loss: 0.0929\n",
            "Epoch [3800/9000], Loss: 0.0927\n",
            "Epoch [3900/9000], Loss: 0.0925\n",
            "Epoch [4000/9000], Loss: 0.0924\n",
            "Epoch [4100/9000], Loss: 0.0923\n",
            "Epoch [4200/9000], Loss: 0.0922\n",
            "Epoch [4300/9000], Loss: 0.0921\n",
            "Epoch [4400/9000], Loss: 0.0919\n",
            "Epoch [4500/9000], Loss: 0.0918\n",
            "Epoch [4600/9000], Loss: 0.0918\n",
            "Epoch [4700/9000], Loss: 0.0916\n",
            "Epoch [4800/9000], Loss: 0.0915\n",
            "Epoch [4900/9000], Loss: 0.0914\n",
            "Epoch [5000/9000], Loss: 0.0914\n",
            "Epoch [5100/9000], Loss: 0.0913\n",
            "Epoch [5200/9000], Loss: 0.0913\n",
            "Epoch [5300/9000], Loss: 0.0911\n",
            "Epoch [5400/9000], Loss: 0.0911\n",
            "Epoch [5500/9000], Loss: 0.0910\n",
            "Epoch [5600/9000], Loss: 0.0909\n",
            "Epoch [5700/9000], Loss: 0.0912\n",
            "Epoch [5800/9000], Loss: 0.0908\n",
            "Epoch [5900/9000], Loss: 0.0908\n",
            "Epoch [6000/9000], Loss: 0.0908\n",
            "Epoch [6100/9000], Loss: 0.0907\n",
            "Epoch [6200/9000], Loss: 0.0906\n",
            "Epoch [6300/9000], Loss: 0.0906\n",
            "Epoch [6400/9000], Loss: 0.0904\n",
            "Epoch [6500/9000], Loss: 0.0904\n",
            "Epoch [6600/9000], Loss: 0.0904\n",
            "Epoch [6700/9000], Loss: 0.0903\n",
            "Epoch [6800/9000], Loss: 0.0902\n",
            "Epoch [6900/9000], Loss: 0.0902\n",
            "Epoch [7000/9000], Loss: 0.0902\n",
            "Epoch [7100/9000], Loss: 0.0901\n",
            "Epoch [7200/9000], Loss: 0.0904\n",
            "Epoch [7300/9000], Loss: 0.0899\n",
            "Epoch [7400/9000], Loss: 0.0899\n",
            "Epoch [7500/9000], Loss: 0.0899\n",
            "Epoch [7600/9000], Loss: 0.0898\n",
            "Epoch [7700/9000], Loss: 0.0898\n",
            "Epoch [7800/9000], Loss: 0.0898\n",
            "Epoch [7900/9000], Loss: 0.0896\n",
            "Epoch [8000/9000], Loss: 0.0896\n",
            "Epoch [8100/9000], Loss: 0.0896\n",
            "Epoch [8200/9000], Loss: 0.0895\n",
            "Epoch [8300/9000], Loss: 0.0896\n",
            "Epoch [8400/9000], Loss: 0.0895\n",
            "Epoch [8500/9000], Loss: 0.0897\n",
            "Epoch [8600/9000], Loss: 0.0894\n",
            "Epoch [8700/9000], Loss: 0.0890\n",
            "Epoch [8800/9000], Loss: 0.0888\n",
            "Epoch [8900/9000], Loss: 0.0888\n",
            "Reached max epochs (9000) with loss 0.08865307\n"
          ]
        }
      ]
    },
    {
      "cell_type": "code",
      "source": [
        "# Plots for the losses:\n",
        "\n",
        "plt.figure(figsize=(15, 8))\n",
        "plt.plot(simple_losses, label='Simple NN')\n",
        "plt.plot(one_hidden_losses, label='One Hidden NN')\n",
        "plt.plot(two_hidden_losses, label='Two Hidden NN')\n",
        "# plt.plot(linear_hidden_losses, label='Linear Hidden NN')\n",
        "\n",
        "plt.xlabel('Epoch')\n",
        "plt.ylabel('Loss')\n",
        "plt.title('Training Loss for Different Neural Network Models')\n",
        "\n",
        "plt.legend()\n",
        "plt.grid(True)\n",
        "plt.show()\n"
      ],
      "metadata": {
        "colab": {
          "base_uri": "https://localhost:8080/",
          "height": 718
        },
        "id": "Kntq5W-C8nFj",
        "outputId": "aae9989d-c1c4-4581-b7d4-b1c32ab6f23d"
      },
      "execution_count": null,
      "outputs": [
        {
          "output_type": "display_data",
          "data": {
            "text/plain": [
              "<Figure size 1500x800 with 1 Axes>"
            ],
            "image/png": "[encoded data removed]"
          },
          "metadata": {}
        }
      ]
    },
    {
      "cell_type": "code",
      "source": [
        "# Function to Evaluate the Neural Network Models:\n",
        "\n",
        "def evaluate_model(y_true, y_pred, message):\n",
        "    accuracies = []\n",
        "    print(f\"\\n--- {message} Results ---\")\n",
        "\n",
        "    for i in range(n_outputs):\n",
        "        acc = (y_true[:, i] == y_pred[:, i]).mean()\n",
        "        accuracies.append(acc)\n",
        "        print(f\"Output y{i+1} Accuracy: {acc:.4f}\")\n",
        "\n",
        "    # print(f\"Average Accuracy: {np.mean(accuracies):.4f}\")\n",
        "    return accuracies"
      ],
      "metadata": {
        "id": "tlrRGZ1chgPw"
      },
      "execution_count": null,
      "outputs": []
    },
    {
      "cell_type": "code",
      "source": [
        "# Prediction and Evaluations:\n",
        "\n",
        "simple_nn.eval()\n",
        "linear_hidden.eval()\n",
        "one_hidden.eval()\n",
        "two_hidden.eval()\n",
        "\n",
        "with torch.no_grad():\n",
        "    simple_nn_pred = (simple_nn(X_test_tensor) > 0.5).float().numpy()\n",
        "    linear_nn_pred = (linear_hidden(X_test_tensor) > 0.5).float().numpy()\n",
        "    one_nn_pred = (one_hidden(X_test_tensor) > 0.5).float().numpy()\n",
        "    two_nn_pred = (two_hidden(X_test_tensor) > 0.5).float().numpy()\n",
        "\n",
        "lr_accuracies = evaluate_model(Y_test, lr_predictions, \"Multivariate Logistic Regression\")\n",
        "simple_nn_accuracies = evaluate_model(Y_test, simple_nn_pred, \"PyTorch NN (No Hidden Layers)\")\n",
        "one_nn_accuracies = evaluate_model(Y_test, one_nn_pred, \"PyTorch NN (With One ReLU Hidden Layer)\")\n",
        "two_nn_accuracies = evaluate_model(Y_test, two_nn_pred, \"PyTorch NN (With Two Hidden Layers)\")\n",
        "# linear_nn_accuracies = evaluate_model(Y_test, linear_nn_pred, \"PyTorch NN (With One Linear Hidden Layer)\")"
      ],
      "metadata": {
        "colab": {
          "base_uri": "https://localhost:8080/"
        },
        "id": "ZJtfgcoDhcrT",
        "outputId": "a13420ff-db20-4cce-cd1b-bcb0f7d2df2f"
      },
      "execution_count": null,
      "outputs": [
        {
          "output_type": "stream",
          "name": "stdout",
          "text": [
            "\n",
            "--- Multivariate Logistic Regression Results ---\n",
            "Output y1 Accuracy: 0.9050\n",
            "Output y2 Accuracy: 0.8750\n",
            "Output y3 Accuracy: 0.7850\n",
            "\n",
            "--- PyTorch NN (No Hidden Layers) Results ---\n",
            "Output y1 Accuracy: 0.9050\n",
            "Output y2 Accuracy: 0.8750\n",
            "Output y3 Accuracy: 0.7850\n",
            "\n",
            "--- PyTorch NN (With One ReLU Hidden Layer) Results ---\n",
            "Output y1 Accuracy: 0.9050\n",
            "Output y2 Accuracy: 0.9650\n",
            "Output y3 Accuracy: 0.9550\n",
            "\n",
            "--- PyTorch NN (With Two Hidden Layers) Results ---\n",
            "Output y1 Accuracy: 0.8950\n",
            "Output y2 Accuracy: 0.9350\n",
            "Output y3 Accuracy: 0.9450\n"
          ]
        }
      ]
    },
    {
      "cell_type": "code",
      "source": [
        "# Barcharts to Compare the Accuracies across Models:\n",
        "\n",
        "labels = ['Output y1', 'Output y2', 'Output y3']\n",
        "x = np.arange(len(labels))\n",
        "width = 0.2\n",
        "\n",
        "fig, ax = plt.subplots(figsize=(10, 10))\n",
        "rects1 = ax.bar(x - width, lr_accuracies, width, label='Logistic Regression')\n",
        "rects2 = ax.bar(x, simple_nn_accuracies, width, label='Simple NN')\n",
        "rects3 = ax.bar(x + width, one_nn_accuracies, width, label='One Hidden NN')\n",
        "rects4 = ax.bar(x + 2*width, two_nn_accuracies, width, label='Two Hidden NN')\n",
        "#rects5 = ax.bar(x, linear_nn_accuracies, width, label='One Linear Hidden NN')\n",
        "\n",
        "# Add some text for labels, title and custom x-axis tick labels, etc.\n",
        "ax.set_ylabel('Accuracy')\n",
        "ax.set_title('Comparison of Model Accuracies on Different Outputs')\n",
        "ax.set_xticks(x)\n",
        "ax.set_xticklabels(labels)\n",
        "ax.legend()\n",
        "\n",
        "# Adjust layout to prevent labels from overlapping\n",
        "fig.tight_layout()\n",
        "\n",
        "plt.show()\n"
      ],
      "metadata": {
        "colab": {
          "base_uri": "https://localhost:8080/",
          "height": 1000
        },
        "id": "YA-yqbso8V_V",
        "outputId": "e406e6ac-627f-41b0-837b-3f1d01ee37b0"
      },
      "execution_count": null,
      "outputs": [
        {
          "output_type": "display_data",
          "data": {
            "text/plain": [
              "<Figure size 1000x1000 with 1 Axes>"
            ],
            "image/png": "[encoded data removed]"
          },
          "metadata": {}
        }
      ]
    },
    {
      "cell_type": "code",
      "execution_count": null,
      "metadata": {
        "colab": {
          "base_uri": "https://localhost:8080/"
        },
        "id": "oL74O0dK2pDF",
        "outputId": "fed92f8b-335b-4bb2-f899-7c4a92dc88ab"
      },
      "outputs": [
        {
          "output_type": "stream",
          "name": "stdout",
          "text": [
            "\n",
            "--- Weight Comparison: Logistic Regression vs Simple Neural Network ---\n",
            "\n",
            "Output y1:\n",
            "Logistic Regression Coefficients: [ 4.4447 -1.3518  0.4269 -0.0917  0.0265 -0.0434]\n",
            "Simple NN weights: [ 4.3683 -1.3333  0.4201 -0.0893  0.0271 -0.041 ]\n",
            "Mean absolute difference: 0.017873\n",
            "\n",
            "Output y2:\n",
            "Logistic Regression Coefficients: [ 7.6000e-02  3.1540e+00  1.2939e+00  8.0000e-04 -6.5800e-02 -2.2541e+00]\n",
            "Simple NN weights: [ 7.5900e-02  3.1487e+00  1.2920e+00  8.0000e-04 -6.5500e-02 -2.2508e+00]\n",
            "Mean absolute difference: 0.001797\n",
            "\n",
            "Output y3:\n",
            "Logistic Regression Coefficients: [ 0.9862 -0.0601 -0.1144 -0.1158  0.5045  0.7081]\n",
            "Simple NN weights: [ 0.9862 -0.0601 -0.1144 -0.1158  0.5045  0.7081]\n",
            "Mean absolute difference: 0.000000\n"
          ]
        }
      ],
      "source": [
        "# Compare weights and coefficients:\n",
        "\n",
        "print(\"\\n--- Weight Comparison: Logistic Regression vs Simple Neural Network ---\")\n",
        "with torch.no_grad():\n",
        "    for i in range(n_outputs):\n",
        "        print(f\"\\nOutput y{i+1}:\")\n",
        "        # Extract sklearn logistic regression weights (coefficients and intercept)\n",
        "        lr_weights = np.concatenate([lr_models[i].coef_[0], [lr_models[i].intercept_[0]]])\n",
        "\n",
        "        # Extract PyTorch weights (weights and bias)\n",
        "        nn_weights = np.concatenate([\n",
        "            simple_nn.linear.weight.data[i].numpy(),\n",
        "            [simple_nn.linear.bias.data[i].numpy()]\n",
        "        ])\n",
        "\n",
        "        print(f\"Logistic Regression Coefficients: {lr_weights.round(4)}\")\n",
        "        print(f\"Simple NN weights: {nn_weights.round(4)}\")\n",
        "        print(f\"Mean absolute difference: {np.mean(np.abs(lr_weights - nn_weights)):.6f}\")"
      ]
    },
    {
      "cell_type": "code",
      "source": [],
      "metadata": {
        "id": "d_26QOuodk6G"
      },
      "execution_count": null,
      "outputs": []
    }
  ]
}